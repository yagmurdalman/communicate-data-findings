{
 "cells": [
  {
   "cell_type": "markdown",
   "metadata": {
    "nbpresent": {
     "id": "382a964a-3e29-46d1-8873-95498fce24f6"
    }
   },
   "source": [
    "# Prosper Loan Data Exploration\n",
    "\n",
    "### Yagmur Dalman\n",
    "\n",
    "## Preliminary Wrangling\n",
    "\n",
    "This data set contains 113,937 loans with 81 variables on each loan, including loan amount, borrower rate (or interest rate), current loan status, borrower income, and many others. I choose 17 variables for my analysis.\n"
   ]
  },
  {
   "cell_type": "code",
   "execution_count": 3,
   "metadata": {
    "nbpresent": {
     "id": "ef45ce02-f6c2-4bea-b3f1-d3b3944fa2c4"
    },
    "scrolled": true
   },
   "outputs": [],
   "source": [
    "# import all packages and set plots to be embedded inline\n",
    "\n",
    "import numpy as np\n",
    "import pandas as pd\n",
    "import matplotlib.pyplot as plt\n",
    "import seaborn as sb\n",
    "import warnings\n",
    "warnings.filterwarnings('ignore')\n",
    "\n",
    "%matplotlib inline"
   ]
  },
  {
   "cell_type": "code",
   "execution_count": 4,
   "metadata": {
    "nbpresent": {
     "id": "4a0d3797-b48d-4be2-a7c2-a95d45fda0db"
    },
    "scrolled": true
   },
   "outputs": [
    {
     "data": {
      "text/html": [
       "<div>\n",
       "<style scoped>\n",
       "    .dataframe tbody tr th:only-of-type {\n",
       "        vertical-align: middle;\n",
       "    }\n",
       "\n",
       "    .dataframe tbody tr th {\n",
       "        vertical-align: top;\n",
       "    }\n",
       "\n",
       "    .dataframe thead th {\n",
       "        text-align: right;\n",
       "    }\n",
       "</style>\n",
       "<table border=\"1\" class=\"dataframe\">\n",
       "  <thead>\n",
       "    <tr style=\"text-align: right;\">\n",
       "      <th></th>\n",
       "      <th>ListingKey</th>\n",
       "      <th>ListingNumber</th>\n",
       "      <th>ListingCreationDate</th>\n",
       "      <th>CreditGrade</th>\n",
       "      <th>Term</th>\n",
       "      <th>LoanStatus</th>\n",
       "      <th>ClosedDate</th>\n",
       "      <th>BorrowerAPR</th>\n",
       "      <th>BorrowerRate</th>\n",
       "      <th>LenderYield</th>\n",
       "      <th>...</th>\n",
       "      <th>LP_ServiceFees</th>\n",
       "      <th>LP_CollectionFees</th>\n",
       "      <th>LP_GrossPrincipalLoss</th>\n",
       "      <th>LP_NetPrincipalLoss</th>\n",
       "      <th>LP_NonPrincipalRecoverypayments</th>\n",
       "      <th>PercentFunded</th>\n",
       "      <th>Recommendations</th>\n",
       "      <th>InvestmentFromFriendsCount</th>\n",
       "      <th>InvestmentFromFriendsAmount</th>\n",
       "      <th>Investors</th>\n",
       "    </tr>\n",
       "  </thead>\n",
       "  <tbody>\n",
       "    <tr>\n",
       "      <th>0</th>\n",
       "      <td>1021339766868145413AB3B</td>\n",
       "      <td>193129</td>\n",
       "      <td>2007-08-26 19:09:29.263000000</td>\n",
       "      <td>C</td>\n",
       "      <td>36</td>\n",
       "      <td>Completed</td>\n",
       "      <td>2009-08-14 00:00:00</td>\n",
       "      <td>0.16516</td>\n",
       "      <td>0.1580</td>\n",
       "      <td>0.1380</td>\n",
       "      <td>...</td>\n",
       "      <td>-133.18</td>\n",
       "      <td>0.0</td>\n",
       "      <td>0.0</td>\n",
       "      <td>0.0</td>\n",
       "      <td>0.0</td>\n",
       "      <td>1.0</td>\n",
       "      <td>0</td>\n",
       "      <td>0</td>\n",
       "      <td>0.0</td>\n",
       "      <td>258</td>\n",
       "    </tr>\n",
       "    <tr>\n",
       "      <th>1</th>\n",
       "      <td>10273602499503308B223C1</td>\n",
       "      <td>1209647</td>\n",
       "      <td>2014-02-27 08:28:07.900000000</td>\n",
       "      <td>NaN</td>\n",
       "      <td>36</td>\n",
       "      <td>Current</td>\n",
       "      <td>NaN</td>\n",
       "      <td>0.12016</td>\n",
       "      <td>0.0920</td>\n",
       "      <td>0.0820</td>\n",
       "      <td>...</td>\n",
       "      <td>0.00</td>\n",
       "      <td>0.0</td>\n",
       "      <td>0.0</td>\n",
       "      <td>0.0</td>\n",
       "      <td>0.0</td>\n",
       "      <td>1.0</td>\n",
       "      <td>0</td>\n",
       "      <td>0</td>\n",
       "      <td>0.0</td>\n",
       "      <td>1</td>\n",
       "    </tr>\n",
       "    <tr>\n",
       "      <th>2</th>\n",
       "      <td>0EE9337825851032864889A</td>\n",
       "      <td>81716</td>\n",
       "      <td>2007-01-05 15:00:47.090000000</td>\n",
       "      <td>HR</td>\n",
       "      <td>36</td>\n",
       "      <td>Completed</td>\n",
       "      <td>2009-12-17 00:00:00</td>\n",
       "      <td>0.28269</td>\n",
       "      <td>0.2750</td>\n",
       "      <td>0.2400</td>\n",
       "      <td>...</td>\n",
       "      <td>-24.20</td>\n",
       "      <td>0.0</td>\n",
       "      <td>0.0</td>\n",
       "      <td>0.0</td>\n",
       "      <td>0.0</td>\n",
       "      <td>1.0</td>\n",
       "      <td>0</td>\n",
       "      <td>0</td>\n",
       "      <td>0.0</td>\n",
       "      <td>41</td>\n",
       "    </tr>\n",
       "    <tr>\n",
       "      <th>3</th>\n",
       "      <td>0EF5356002482715299901A</td>\n",
       "      <td>658116</td>\n",
       "      <td>2012-10-22 11:02:35.010000000</td>\n",
       "      <td>NaN</td>\n",
       "      <td>36</td>\n",
       "      <td>Current</td>\n",
       "      <td>NaN</td>\n",
       "      <td>0.12528</td>\n",
       "      <td>0.0974</td>\n",
       "      <td>0.0874</td>\n",
       "      <td>...</td>\n",
       "      <td>-108.01</td>\n",
       "      <td>0.0</td>\n",
       "      <td>0.0</td>\n",
       "      <td>0.0</td>\n",
       "      <td>0.0</td>\n",
       "      <td>1.0</td>\n",
       "      <td>0</td>\n",
       "      <td>0</td>\n",
       "      <td>0.0</td>\n",
       "      <td>158</td>\n",
       "    </tr>\n",
       "    <tr>\n",
       "      <th>4</th>\n",
       "      <td>0F023589499656230C5E3E2</td>\n",
       "      <td>909464</td>\n",
       "      <td>2013-09-14 18:38:39.097000000</td>\n",
       "      <td>NaN</td>\n",
       "      <td>36</td>\n",
       "      <td>Current</td>\n",
       "      <td>NaN</td>\n",
       "      <td>0.24614</td>\n",
       "      <td>0.2085</td>\n",
       "      <td>0.1985</td>\n",
       "      <td>...</td>\n",
       "      <td>-60.27</td>\n",
       "      <td>0.0</td>\n",
       "      <td>0.0</td>\n",
       "      <td>0.0</td>\n",
       "      <td>0.0</td>\n",
       "      <td>1.0</td>\n",
       "      <td>0</td>\n",
       "      <td>0</td>\n",
       "      <td>0.0</td>\n",
       "      <td>20</td>\n",
       "    </tr>\n",
       "  </tbody>\n",
       "</table>\n",
       "<p>5 rows × 81 columns</p>\n",
       "</div>"
      ],
      "text/plain": [
       "                ListingKey  ListingNumber            ListingCreationDate  \\\n",
       "0  1021339766868145413AB3B         193129  2007-08-26 19:09:29.263000000   \n",
       "1  10273602499503308B223C1        1209647  2014-02-27 08:28:07.900000000   \n",
       "2  0EE9337825851032864889A          81716  2007-01-05 15:00:47.090000000   \n",
       "3  0EF5356002482715299901A         658116  2012-10-22 11:02:35.010000000   \n",
       "4  0F023589499656230C5E3E2         909464  2013-09-14 18:38:39.097000000   \n",
       "\n",
       "  CreditGrade  Term LoanStatus           ClosedDate  BorrowerAPR  \\\n",
       "0           C    36  Completed  2009-08-14 00:00:00      0.16516   \n",
       "1         NaN    36    Current                  NaN      0.12016   \n",
       "2          HR    36  Completed  2009-12-17 00:00:00      0.28269   \n",
       "3         NaN    36    Current                  NaN      0.12528   \n",
       "4         NaN    36    Current                  NaN      0.24614   \n",
       "\n",
       "   BorrowerRate  LenderYield    ...     LP_ServiceFees  LP_CollectionFees  \\\n",
       "0        0.1580       0.1380    ...            -133.18                0.0   \n",
       "1        0.0920       0.0820    ...               0.00                0.0   \n",
       "2        0.2750       0.2400    ...             -24.20                0.0   \n",
       "3        0.0974       0.0874    ...            -108.01                0.0   \n",
       "4        0.2085       0.1985    ...             -60.27                0.0   \n",
       "\n",
       "   LP_GrossPrincipalLoss  LP_NetPrincipalLoss LP_NonPrincipalRecoverypayments  \\\n",
       "0                    0.0                  0.0                             0.0   \n",
       "1                    0.0                  0.0                             0.0   \n",
       "2                    0.0                  0.0                             0.0   \n",
       "3                    0.0                  0.0                             0.0   \n",
       "4                    0.0                  0.0                             0.0   \n",
       "\n",
       "   PercentFunded  Recommendations InvestmentFromFriendsCount  \\\n",
       "0            1.0                0                          0   \n",
       "1            1.0                0                          0   \n",
       "2            1.0                0                          0   \n",
       "3            1.0                0                          0   \n",
       "4            1.0                0                          0   \n",
       "\n",
       "  InvestmentFromFriendsAmount Investors  \n",
       "0                         0.0       258  \n",
       "1                         0.0         1  \n",
       "2                         0.0        41  \n",
       "3                         0.0       158  \n",
       "4                         0.0        20  \n",
       "\n",
       "[5 rows x 81 columns]"
      ]
     },
     "execution_count": 4,
     "metadata": {},
     "output_type": "execute_result"
    }
   ],
   "source": [
    "# load in the dataset into a pandas dataframe, print statistics\n",
    "\n",
    "loan = pd.read_csv('prosperLoanData.csv')\n",
    "loan.head()"
   ]
  },
  {
   "cell_type": "code",
   "execution_count": 5,
   "metadata": {
    "nbpresent": {
     "id": "dda8b41d-238c-4cda-b108-3b1e65cc71ef"
    },
    "scrolled": false
   },
   "outputs": [
    {
     "name": "stdout",
     "output_type": "stream",
     "text": [
      "<class 'pandas.core.frame.DataFrame'>\n",
      "RangeIndex: 113937 entries, 0 to 113936\n",
      "Data columns (total 81 columns):\n",
      "ListingKey                             113937 non-null object\n",
      "ListingNumber                          113937 non-null int64\n",
      "ListingCreationDate                    113937 non-null object\n",
      "CreditGrade                            28953 non-null object\n",
      "Term                                   113937 non-null int64\n",
      "LoanStatus                             113937 non-null object\n",
      "ClosedDate                             55089 non-null object\n",
      "BorrowerAPR                            113912 non-null float64\n",
      "BorrowerRate                           113937 non-null float64\n",
      "LenderYield                            113937 non-null float64\n",
      "EstimatedEffectiveYield                84853 non-null float64\n",
      "EstimatedLoss                          84853 non-null float64\n",
      "EstimatedReturn                        84853 non-null float64\n",
      "ProsperRating (numeric)                84853 non-null float64\n",
      "ProsperRating (Alpha)                  84853 non-null object\n",
      "ProsperScore                           84853 non-null float64\n",
      "ListingCategory (numeric)              113937 non-null int64\n",
      "BorrowerState                          108422 non-null object\n",
      "Occupation                             110349 non-null object\n",
      "EmploymentStatus                       111682 non-null object\n",
      "EmploymentStatusDuration               106312 non-null float64\n",
      "IsBorrowerHomeowner                    113937 non-null bool\n",
      "CurrentlyInGroup                       113937 non-null bool\n",
      "GroupKey                               13341 non-null object\n",
      "DateCreditPulled                       113937 non-null object\n",
      "CreditScoreRangeLower                  113346 non-null float64\n",
      "CreditScoreRangeUpper                  113346 non-null float64\n",
      "FirstRecordedCreditLine                113240 non-null object\n",
      "CurrentCreditLines                     106333 non-null float64\n",
      "OpenCreditLines                        106333 non-null float64\n",
      "TotalCreditLinespast7years             113240 non-null float64\n",
      "OpenRevolvingAccounts                  113937 non-null int64\n",
      "OpenRevolvingMonthlyPayment            113937 non-null float64\n",
      "InquiriesLast6Months                   113240 non-null float64\n",
      "TotalInquiries                         112778 non-null float64\n",
      "CurrentDelinquencies                   113240 non-null float64\n",
      "AmountDelinquent                       106315 non-null float64\n",
      "DelinquenciesLast7Years                112947 non-null float64\n",
      "PublicRecordsLast10Years               113240 non-null float64\n",
      "PublicRecordsLast12Months              106333 non-null float64\n",
      "RevolvingCreditBalance                 106333 non-null float64\n",
      "BankcardUtilization                    106333 non-null float64\n",
      "AvailableBankcardCredit                106393 non-null float64\n",
      "TotalTrades                            106393 non-null float64\n",
      "TradesNeverDelinquent (percentage)     106393 non-null float64\n",
      "TradesOpenedLast6Months                106393 non-null float64\n",
      "DebtToIncomeRatio                      105383 non-null float64\n",
      "IncomeRange                            113937 non-null object\n",
      "IncomeVerifiable                       113937 non-null bool\n",
      "StatedMonthlyIncome                    113937 non-null float64\n",
      "LoanKey                                113937 non-null object\n",
      "TotalProsperLoans                      22085 non-null float64\n",
      "TotalProsperPaymentsBilled             22085 non-null float64\n",
      "OnTimeProsperPayments                  22085 non-null float64\n",
      "ProsperPaymentsLessThanOneMonthLate    22085 non-null float64\n",
      "ProsperPaymentsOneMonthPlusLate        22085 non-null float64\n",
      "ProsperPrincipalBorrowed               22085 non-null float64\n",
      "ProsperPrincipalOutstanding            22085 non-null float64\n",
      "ScorexChangeAtTimeOfListing            18928 non-null float64\n",
      "LoanCurrentDaysDelinquent              113937 non-null int64\n",
      "LoanFirstDefaultedCycleNumber          16952 non-null float64\n",
      "LoanMonthsSinceOrigination             113937 non-null int64\n",
      "LoanNumber                             113937 non-null int64\n",
      "LoanOriginalAmount                     113937 non-null int64\n",
      "LoanOriginationDate                    113937 non-null object\n",
      "LoanOriginationQuarter                 113937 non-null object\n",
      "MemberKey                              113937 non-null object\n",
      "MonthlyLoanPayment                     113937 non-null float64\n",
      "LP_CustomerPayments                    113937 non-null float64\n",
      "LP_CustomerPrincipalPayments           113937 non-null float64\n",
      "LP_InterestandFees                     113937 non-null float64\n",
      "LP_ServiceFees                         113937 non-null float64\n",
      "LP_CollectionFees                      113937 non-null float64\n",
      "LP_GrossPrincipalLoss                  113937 non-null float64\n",
      "LP_NetPrincipalLoss                    113937 non-null float64\n",
      "LP_NonPrincipalRecoverypayments        113937 non-null float64\n",
      "PercentFunded                          113937 non-null float64\n",
      "Recommendations                        113937 non-null int64\n",
      "InvestmentFromFriendsCount             113937 non-null int64\n",
      "InvestmentFromFriendsAmount            113937 non-null float64\n",
      "Investors                              113937 non-null int64\n",
      "dtypes: bool(3), float64(50), int64(11), object(17)\n",
      "memory usage: 68.1+ MB\n"
     ]
    }
   ],
   "source": [
    "loan.info()"
   ]
  },
  {
   "cell_type": "code",
   "execution_count": 6,
   "metadata": {
    "nbpresent": {
     "id": "3f3d71c8-a3c0-434a-ade7-33fcc7678f53"
    },
    "scrolled": false
   },
   "outputs": [
    {
     "data": {
      "text/plain": [
       "0"
      ]
     },
     "execution_count": 6,
     "metadata": {},
     "output_type": "execute_result"
    }
   ],
   "source": [
    "# check duplicates \n",
    "loan.duplicated().sum()"
   ]
  },
  {
   "cell_type": "code",
   "execution_count": 7,
   "metadata": {
    "nbpresent": {
     "id": "db4a10fa-e2fa-4d7b-973d-544b220da8c4"
    },
    "scrolled": true
   },
   "outputs": [],
   "source": [
    "# the columns will be used in the analysis\n",
    "columns = ['Term','LoanStatus', 'BorrowerAPR','ProsperScore','ListingCategory (numeric)',\n",
    "           'ProsperRating (numeric)','BorrowerState', 'Occupation',\n",
    "           'EmploymentStatus','IsBorrowerHomeowner', 'LoanOriginalAmount',\n",
    "           'DelinquenciesLast7Years', 'DebtToIncomeRatio','StatedMonthlyIncome']\n",
    "# take the needed columns\n",
    "df = loan[columns]\n",
    "# drop the rows with missing value \n",
    "df.dropna(inplace = True)\n"
   ]
  },
  {
   "cell_type": "code",
   "execution_count": 8,
   "metadata": {
    "nbpresent": {
     "id": "c474937b-89b9-4d82-a003-453053539e0c"
    },
    "scrolled": true
   },
   "outputs": [],
   "source": [
    "# rename some of the columns to match the style\n",
    "df.rename(columns = {'ProsperRating (numeric)':'ProsperRatingNumeric',\n",
    "                     'ListingCategory (numeric)': 'ListingCategoryNumeric'}, inplace = True)\n"
   ]
  },
  {
   "cell_type": "code",
   "execution_count": 9,
   "metadata": {
    "nbpresent": {
     "id": "f847125c-b264-48fb-a601-e2be6a88738e"
    },
    "scrolled": true
   },
   "outputs": [
    {
     "name": "stdout",
     "output_type": "stream",
     "text": [
      "<class 'pandas.core.frame.DataFrame'>\n",
      "Int64Index: 76224 entries, 1 to 113936\n",
      "Data columns (total 14 columns):\n",
      "Term                       76224 non-null int64\n",
      "LoanStatus                 76224 non-null object\n",
      "BorrowerAPR                76224 non-null float64\n",
      "ProsperScore               76224 non-null float64\n",
      "ListingCategoryNumeric     76224 non-null int64\n",
      "ProsperRatingNumeric       76224 non-null float64\n",
      "BorrowerState              76224 non-null object\n",
      "Occupation                 76224 non-null object\n",
      "EmploymentStatus           76224 non-null object\n",
      "IsBorrowerHomeowner        76224 non-null bool\n",
      "LoanOriginalAmount         76224 non-null int64\n",
      "DelinquenciesLast7Years    76224 non-null float64\n",
      "DebtToIncomeRatio          76224 non-null float64\n",
      "StatedMonthlyIncome        76224 non-null float64\n",
      "dtypes: bool(1), float64(6), int64(3), object(4)\n",
      "memory usage: 8.2+ MB\n"
     ]
    }
   ],
   "source": [
    "# overview of data\n",
    "df.info()"
   ]
  },
  {
   "cell_type": "code",
   "execution_count": 10,
   "metadata": {
    "nbpresent": {
     "id": "66882f15-b74a-454a-bde1-ae4a06e02054"
    },
    "scrolled": true
   },
   "outputs": [
    {
     "data": {
      "text/html": [
       "<div>\n",
       "<style scoped>\n",
       "    .dataframe tbody tr th:only-of-type {\n",
       "        vertical-align: middle;\n",
       "    }\n",
       "\n",
       "    .dataframe tbody tr th {\n",
       "        vertical-align: top;\n",
       "    }\n",
       "\n",
       "    .dataframe thead th {\n",
       "        text-align: right;\n",
       "    }\n",
       "</style>\n",
       "<table border=\"1\" class=\"dataframe\">\n",
       "  <thead>\n",
       "    <tr style=\"text-align: right;\">\n",
       "      <th></th>\n",
       "      <th>Term</th>\n",
       "      <th>LoanStatus</th>\n",
       "      <th>BorrowerAPR</th>\n",
       "      <th>ProsperScore</th>\n",
       "      <th>ListingCategoryNumeric</th>\n",
       "      <th>ProsperRatingNumeric</th>\n",
       "      <th>BorrowerState</th>\n",
       "      <th>Occupation</th>\n",
       "      <th>EmploymentStatus</th>\n",
       "      <th>IsBorrowerHomeowner</th>\n",
       "      <th>LoanOriginalAmount</th>\n",
       "      <th>DelinquenciesLast7Years</th>\n",
       "      <th>DebtToIncomeRatio</th>\n",
       "      <th>StatedMonthlyIncome</th>\n",
       "    </tr>\n",
       "  </thead>\n",
       "  <tbody>\n",
       "    <tr>\n",
       "      <th>1</th>\n",
       "      <td>36</td>\n",
       "      <td>Current</td>\n",
       "      <td>0.12016</td>\n",
       "      <td>7.0</td>\n",
       "      <td>2</td>\n",
       "      <td>6.0</td>\n",
       "      <td>CO</td>\n",
       "      <td>Professional</td>\n",
       "      <td>Employed</td>\n",
       "      <td>False</td>\n",
       "      <td>10000</td>\n",
       "      <td>0.0</td>\n",
       "      <td>0.18</td>\n",
       "      <td>6125.000000</td>\n",
       "    </tr>\n",
       "    <tr>\n",
       "      <th>3</th>\n",
       "      <td>36</td>\n",
       "      <td>Current</td>\n",
       "      <td>0.12528</td>\n",
       "      <td>9.0</td>\n",
       "      <td>16</td>\n",
       "      <td>6.0</td>\n",
       "      <td>GA</td>\n",
       "      <td>Skilled Labor</td>\n",
       "      <td>Employed</td>\n",
       "      <td>True</td>\n",
       "      <td>10000</td>\n",
       "      <td>14.0</td>\n",
       "      <td>0.15</td>\n",
       "      <td>2875.000000</td>\n",
       "    </tr>\n",
       "    <tr>\n",
       "      <th>4</th>\n",
       "      <td>36</td>\n",
       "      <td>Current</td>\n",
       "      <td>0.24614</td>\n",
       "      <td>4.0</td>\n",
       "      <td>2</td>\n",
       "      <td>3.0</td>\n",
       "      <td>MN</td>\n",
       "      <td>Executive</td>\n",
       "      <td>Employed</td>\n",
       "      <td>True</td>\n",
       "      <td>15000</td>\n",
       "      <td>0.0</td>\n",
       "      <td>0.26</td>\n",
       "      <td>9583.333333</td>\n",
       "    </tr>\n",
       "    <tr>\n",
       "      <th>5</th>\n",
       "      <td>60</td>\n",
       "      <td>Current</td>\n",
       "      <td>0.15425</td>\n",
       "      <td>10.0</td>\n",
       "      <td>1</td>\n",
       "      <td>5.0</td>\n",
       "      <td>NM</td>\n",
       "      <td>Professional</td>\n",
       "      <td>Employed</td>\n",
       "      <td>True</td>\n",
       "      <td>15000</td>\n",
       "      <td>0.0</td>\n",
       "      <td>0.36</td>\n",
       "      <td>8333.333333</td>\n",
       "    </tr>\n",
       "    <tr>\n",
       "      <th>6</th>\n",
       "      <td>36</td>\n",
       "      <td>Current</td>\n",
       "      <td>0.31032</td>\n",
       "      <td>2.0</td>\n",
       "      <td>1</td>\n",
       "      <td>2.0</td>\n",
       "      <td>KS</td>\n",
       "      <td>Sales - Retail</td>\n",
       "      <td>Employed</td>\n",
       "      <td>False</td>\n",
       "      <td>3000</td>\n",
       "      <td>0.0</td>\n",
       "      <td>0.27</td>\n",
       "      <td>2083.333333</td>\n",
       "    </tr>\n",
       "  </tbody>\n",
       "</table>\n",
       "</div>"
      ],
      "text/plain": [
       "   Term LoanStatus  BorrowerAPR  ProsperScore  ListingCategoryNumeric  \\\n",
       "1    36    Current      0.12016           7.0                       2   \n",
       "3    36    Current      0.12528           9.0                      16   \n",
       "4    36    Current      0.24614           4.0                       2   \n",
       "5    60    Current      0.15425          10.0                       1   \n",
       "6    36    Current      0.31032           2.0                       1   \n",
       "\n",
       "   ProsperRatingNumeric BorrowerState      Occupation EmploymentStatus  \\\n",
       "1                   6.0            CO    Professional         Employed   \n",
       "3                   6.0            GA   Skilled Labor         Employed   \n",
       "4                   3.0            MN       Executive         Employed   \n",
       "5                   5.0            NM    Professional         Employed   \n",
       "6                   2.0            KS  Sales - Retail         Employed   \n",
       "\n",
       "   IsBorrowerHomeowner  LoanOriginalAmount  DelinquenciesLast7Years  \\\n",
       "1                False               10000                      0.0   \n",
       "3                 True               10000                     14.0   \n",
       "4                 True               15000                      0.0   \n",
       "5                 True               15000                      0.0   \n",
       "6                False                3000                      0.0   \n",
       "\n",
       "   DebtToIncomeRatio  StatedMonthlyIncome  \n",
       "1               0.18          6125.000000  \n",
       "3               0.15          2875.000000  \n",
       "4               0.26          9583.333333  \n",
       "5               0.36          8333.333333  \n",
       "6               0.27          2083.333333  "
      ]
     },
     "execution_count": 10,
     "metadata": {},
     "output_type": "execute_result"
    }
   ],
   "source": [
    "df.head()"
   ]
  },
  {
   "cell_type": "code",
   "execution_count": 11,
   "metadata": {
    "nbpresent": {
     "id": "e1bd83c3-092c-40c7-8928-837e3007bf20"
    },
    "scrolled": true
   },
   "outputs": [
    {
     "name": "stdout",
     "output_type": "stream",
     "text": [
      "[ 7.  9.  4. 10.  2. 11.  8.  5.  3.  6.  1.]\n",
      "[ 2 16  1  7 13  6 15 20 19 18  8 11  3 14  9 17  0 10  5 12]\n",
      "[6. 3. 5. 2. 4. 7. 1.]\n"
     ]
    }
   ],
   "source": [
    "# check for erroneous data\n",
    "print(df.ProsperScore.unique())\n",
    "print(df.ListingCategoryNumeric.unique())\n",
    "print(df.ProsperRatingNumeric.unique())"
   ]
  },
  {
   "cell_type": "markdown",
   "metadata": {
    "nbpresent": {
     "id": "3d8a2426-840c-4706-a5ee-ee7b68f8cee2"
    }
   },
   "source": [
    "There is no prosper score such 11 according to the data dictionary but in the Prosper website it is stated that  Prosper score ranges from 1 to 11, with 11 being the best, or lowest risk, score. So I will keep them.\n",
    "https://www.prosper.com/plp/general-prosper_score/"
   ]
  },
  {
   "cell_type": "markdown",
   "metadata": {
    "nbpresent": {
     "id": "20fafef2-85d5-41d4-9b57-014f13271782"
    }
   },
   "source": [
    "### What is the structure of your dataset?\n",
    "\n",
    "There are 76216 loans in the dataset with 14 attributes. They are: Term, LoanStatus, BorrowerAPR, ProsperScore, ListingCategory (numeric), ProsperRating (numeric), BorrowerState, Occupation, EmploymentStatus, IsBorrowerHomeowner, LoanOriginalAmount, DelinquenciesLast7Years, DebtToIncomeRatio, StatedMonthlyIncome.\n",
    "\n",
    "### What is/are the main feature(s) of interest in your dataset?\n",
    "\n",
    "I'm most interested in understanding what features are best for predicting the Borrower APR in the dataset. Also, I will be exploring the interaction between Prosper Score, Borrower Rate, Loan Original Amount and the other variables.\n",
    "\n",
    "### What features in the dataset do you think will help support your investigation into your feature(s) of interest?\n",
    "\n",
    "I expect Prosper Score will have the strongest effect on Borrower APR: the higher Prosper Score, the lower Borrower APR. I also think that Loan Original Amount and Stated Monthly Income have effects on Borrower APR.\n",
    "\n",
    "## Univariate Exploration\n",
    "\n",
    "I'll start by looking at the distribution of each variable."
   ]
  },
  {
   "cell_type": "markdown",
   "metadata": {
    "nbpresent": {
     "id": "b6762cd7-cd3b-4ebc-871b-61089c9e671f"
    }
   },
   "source": [
    "### Univariate Analysis"
   ]
  },
  {
   "cell_type": "code",
   "execution_count": 12,
   "metadata": {
    "nbpresent": {
     "id": "04265e3e-d7cd-4415-baee-b832f0b34fa3"
    },
    "scrolled": true
   },
   "outputs": [],
   "source": [
    "# set color\n",
    "base_color = sb.color_palette()[0]"
   ]
  },
  {
   "cell_type": "code",
   "execution_count": 13,
   "metadata": {
    "nbpresent": {
     "id": "21ad5405-9f69-4a85-88b8-4cc0f192e1dd"
    },
    "scrolled": true
   },
   "outputs": [
    {
     "data": {
      "image/png": "[encoded data removed]",
      "text/plain": [
       "<Figure size 864x864 with 12 Axes>"
      ]
     },
     "metadata": {},
     "output_type": "display_data"
    }
   ],
   "source": [
    "df.hist(figsize=(12,12));"
   ]
  },
  {
   "cell_type": "markdown",
   "metadata": {
    "nbpresent": {
     "id": "e0a1490d-a27c-4adf-bdbc-a12076f29977"
    }
   },
   "source": [
    "#### Term"
   ]
  },
  {
   "cell_type": "code",
   "execution_count": 221,
   "metadata": {
    "nbpresent": {
     "id": "e297f95c-3bc3-44b8-a2a5-31f0579b16b1"
    },
    "scrolled": true
   },
   "outputs": [
    {
     "data": {
      "text/plain": [
       "<matplotlib.axes._subplots.AxesSubplot at 0x1a2527f550>"
      ]
     },
     "execution_count": 221,
     "metadata": {},
     "output_type": "execute_result"
    },
    {
     "data": {
      "image/png": "[encoded data removed]",
      "text/plain": [
       "<Figure size 432x288 with 1 Axes>"
      ]
     },
     "metadata": {},
     "output_type": "display_data"
    }
   ],
   "source": [
    "sb.countplot(data = df, x = 'Term', color = base_color)"
   ]
  },
  {
   "cell_type": "markdown",
   "metadata": {
    "nbpresent": {
     "id": "908a3355-c827-41cc-a6b9-67efdd3d9278"
    }
   },
   "source": [
    "The most common length of the loan is 36 months. 60 months is almost half of it and 12 months is the least common."
   ]
  },
  {
   "cell_type": "markdown",
   "metadata": {
    "nbpresent": {
     "id": "081030e0-8b97-46ef-953e-e1fb9e86427f"
    }
   },
   "source": [
    "#### Loan Status"
   ]
  },
  {
   "cell_type": "code",
   "execution_count": 15,
   "metadata": {
    "nbpresent": {
     "id": "05920785-ad96-4e89-a30f-94a809d3b219"
    },
    "scrolled": true
   },
   "outputs": [
    {
     "data": {
      "image/png": "[encoded data removed]",
      "text/plain": [
       "<Figure size 576x360 with 1 Axes>"
      ]
     },
     "metadata": {},
     "output_type": "display_data"
    }
   ],
   "source": [
    "plt.figure(figsize=[8, 5]);\n",
    "# order by count\n",
    "status_order = df['LoanStatus'].value_counts().index\n",
    "# plotting\n",
    "sb.countplot(data = df, x = 'LoanStatus', color = base_color, order = status_order);\n",
    "plt.xticks(rotation=90);\n"
   ]
  },
  {
   "cell_type": "markdown",
   "metadata": {
    "nbpresent": {
     "id": "bd146953-8680-4f42-a851-d21734d13b7f"
    }
   },
   "source": [
    "Most of the loans are current loans and completed, chargedoff loans follow it. Defaulted and past due loans are a small part of the distribution."
   ]
  },
  {
   "cell_type": "markdown",
   "metadata": {
    "nbpresent": {
     "id": "2dd5e6cd-d98e-472e-97fb-192104be3e66"
    }
   },
   "source": [
    "#### Borrower APR"
   ]
  },
  {
   "cell_type": "code",
   "execution_count": 16,
   "metadata": {
    "nbpresent": {
     "id": "1c4196d2-7cbb-4863-800c-07dbba58a701"
    },
    "scrolled": false
   },
   "outputs": [
    {
     "data": {
      "image/png": "[encoded data removed]",
      "text/plain": [
       "<Figure size 864x360 with 2 Axes>"
      ]
     },
     "metadata": {},
     "output_type": "display_data"
    }
   ],
   "source": [
    "plt.figure(figsize = [12, 5])\n",
    "\n",
    "plt.subplot(1,2,1)\n",
    "sb.violinplot(data = df, y = 'BorrowerAPR', color = base_color);\n",
    "\n",
    "plt.subplot(1,2,2)\n",
    "plt.hist(data=df, x='BorrowerAPR', bins=35);\n",
    "\n"
   ]
  },
  {
   "cell_type": "code",
   "execution_count": 17,
   "metadata": {
    "nbpresent": {
     "id": "50c2be81-5942-4d6d-93fc-398d151fa359"
    }
   },
   "outputs": [
    {
     "name": "stdout",
     "output_type": "stream",
     "text": [
      "count    76224.000000\n",
      "mean         0.223904\n",
      "std          0.079374\n",
      "min          0.045830\n",
      "25%          0.161570\n",
      "50%          0.215660\n",
      "75%          0.287800\n",
      "max          0.423950\n",
      "Name: BorrowerAPR, dtype: float64\n",
      "0.35797    2990\n",
      "0.35643    1328\n",
      "0.30532     782\n",
      "Name: BorrowerAPR, dtype: int64\n",
      "0    0.35797\n",
      "dtype: float64\n"
     ]
    }
   ],
   "source": [
    "print(df.BorrowerAPR.describe())\n",
    "print(df.BorrowerAPR.value_counts().head(3))\n",
    "print(df.BorrowerAPR.mode())\n"
   ]
  },
  {
   "cell_type": "markdown",
   "metadata": {
    "nbpresent": {
     "id": "fb02f4e4-3c39-41d8-b5da-d66bca5d9e84"
    }
   },
   "source": [
    "Borrower APR is the cost of credit as a yearly rate, and the sum of the interest rate and the other fees.\n",
    "\n",
    "Borrower APR changes between 4% and 42%. The mean borrower APR is around 22% and most of the borrowers pay around %20.\n",
    "The distribution of the Borrower APR is bimodal, first peak is around 20% and the second one,mode, is around 35%. Interestingly, , there's a jump in frequency right before 35%, and a sharp drop just after 35%\n",
    "Interestingly, there is a sharp drop before  35%"
   ]
  },
  {
   "cell_type": "markdown",
   "metadata": {
    "nbpresent": {
     "id": "79c5f069-ffc2-49a9-8302-bb2107a9fc63"
    }
   },
   "source": [
    "#### Prosper Rating Numeric"
   ]
  },
  {
   "cell_type": "code",
   "execution_count": 18,
   "metadata": {
    "nbpresent": {
     "id": "755dfb1d-409f-4ae4-98d5-d944195efdb9"
    },
    "scrolled": true
   },
   "outputs": [
    {
     "data": {
      "image/png": "[encoded data removed]",
      "text/plain": [
       "<Figure size 432x288 with 1 Axes>"
      ]
     },
     "metadata": {},
     "output_type": "display_data"
    }
   ],
   "source": [
    "sb.countplot(data = df, x = 'ProsperRatingNumeric', color = base_color);\n"
   ]
  },
  {
   "cell_type": "markdown",
   "metadata": {
    "nbpresent": {
     "id": "508c1249-0cb3-4b90-9ba6-566450eacca6"
    }
   },
   "source": [
    "The Prosper Rating assigned as the following: 0 - N/A, 1 - HR, 2 - E, 3 - D, 4 - C, 5 - B, 6 - A, 7 - AA.\n",
    "\n",
    "The most common rating is C and the number of the borrowers with the highest rating AA is the lowest. The distribution seems like a normal distribution."
   ]
  },
  {
   "cell_type": "markdown",
   "metadata": {
    "nbpresent": {
     "id": "7e0748cc-9013-4220-89a5-2ef04bfc34ef"
    }
   },
   "source": [
    "#### Prosper Score"
   ]
  },
  {
   "cell_type": "code",
   "execution_count": 19,
   "metadata": {
    "nbpresent": {
     "id": "dbb7bf68-3ac9-4996-8d81-499c777b9293"
    },
    "scrolled": true
   },
   "outputs": [
    {
     "data": {
      "image/png": "[encoded data removed]",
      "text/plain": [
       "<Figure size 936x360 with 2 Axes>"
      ]
     },
     "metadata": {},
     "output_type": "display_data"
    }
   ],
   "source": [
    "plt.figure(figsize = [13, 5]) \n",
    "\n",
    "plt.subplot(1,2,1)\n",
    "sb.countplot(data = df, x = 'ProsperScore', color= base_color);\n",
    "\n",
    "plt.subplot(1,2,2)\n",
    "sb.violinplot(data = df, y = 'ProsperScore', color= base_color);\n"
   ]
  },
  {
   "cell_type": "markdown",
   "metadata": {
    "nbpresent": {
     "id": "2bccca86-725c-4a5b-a04c-7275801748e6"
    }
   },
   "source": [
    "Prosper Score is the custom risk score was built using historical Prosper data to assess the risk of Prosper borrower listings. The output to Prosper users is a Prosper score which ranges from 1 to 11, with 11 being the best and 1 being the worst.\n",
    "\n",
    "Its distribution is multimodal and has three peaks at 4, 6 and 8. The mean risk score is 6."
   ]
  },
  {
   "cell_type": "markdown",
   "metadata": {
    "nbpresent": {
     "id": "62258de3-457c-43a2-bd6d-945771080ab0"
    }
   },
   "source": [
    "#### Listing Category"
   ]
  },
  {
   "cell_type": "code",
   "execution_count": 20,
   "metadata": {
    "nbpresent": {
     "id": "ce313dac-32d4-4125-89c8-69f2f92c1354"
    },
    "scrolled": false
   },
   "outputs": [
    {
     "data": {
      "image/png": "[encoded data removed]",
      "text/plain": [
       "<Figure size 576x432 with 1 Axes>"
      ]
     },
     "metadata": {},
     "output_type": "display_data"
    }
   ],
   "source": [
    "plt.figure(figsize=[8, 6]);\n",
    "listing_order = df['ListingCategoryNumeric'].value_counts().index\n",
    "sb.countplot(data = df, x = 'ListingCategoryNumeric', color = base_color, order = listing_order);\n"
   ]
  },
  {
   "cell_type": "markdown",
   "metadata": {
    "nbpresent": {
     "id": "e40f63eb-573a-4d44-b32b-c86e78d57f8c"
    }
   },
   "source": [
    "The category of the listing that the borrower selected when posting their listing: 0 - Not Available, 1 - Debt Consolidation, 2 - Home Improvement, 3 - Business, 4 - Personal Loan, 5 - Student Use, 6 - Auto, 7- Other, 8 - Baby&Adoption, 9 - Boat, 10 - Cosmetic Procedure, 11 - Engagement Ring, 12 - Green Loans, 13 - Household Expenses, 14 - Large Purchases, 15 - Medical/Dental, 16 - Motorcycle, 17 - RV, 18 - Taxes, 19 - Vacation, 20 - Wedding Loans\n",
    "\n",
    "The higher proportion of the borrowers get loans for Debt Consolidation. Other reasons, Home Improvement and Business come after Debt Consolidation."
   ]
  },
  {
   "cell_type": "markdown",
   "metadata": {
    "nbpresent": {
     "id": "c10dd3af-172d-4155-af90-3d1cf4b3e45b"
    }
   },
   "source": [
    "#### Borrower State"
   ]
  },
  {
   "cell_type": "code",
   "execution_count": 21,
   "metadata": {
    "nbpresent": {
     "id": "c4934be0-a9db-4894-9974-3e9007bc2f1d"
    },
    "scrolled": false
   },
   "outputs": [
    {
     "data": {
      "image/png": "[encoded data removed]",
      "text/plain": [
       "<Figure size 576x432 with 1 Axes>"
      ]
     },
     "metadata": {},
     "output_type": "display_data"
    }
   ],
   "source": [
    "plt.figure(figsize=[8, 6]);\n",
    "\n",
    "#order by count\n",
    "state_order = df['BorrowerState'].value_counts()[:20].index\n",
    "\n",
    "sb.countplot(data = df, x = 'BorrowerState', color = base_color, order = state_order);\n"
   ]
  },
  {
   "cell_type": "markdown",
   "metadata": {
    "nbpresent": {
     "id": "2f46e58a-e747-42a5-a8d0-6dd8fd86c912"
    }
   },
   "source": [
    "Most of the borrowers are in California, New York, Texas, Florida and Illinois."
   ]
  },
  {
   "cell_type": "markdown",
   "metadata": {
    "nbpresent": {
     "id": "a14b3ce0-c567-432e-8818-5e2c637f7131"
    }
   },
   "source": [
    "#### Occupation"
   ]
  },
  {
   "cell_type": "code",
   "execution_count": 22,
   "metadata": {
    "nbpresent": {
     "id": "6520b821-5b7f-4448-bbe0-915de973cca3"
    },
    "scrolled": true
   },
   "outputs": [
    {
     "data": {
      "image/png": "[encoded data removed]",
      "text/plain": [
       "<Figure size 864x432 with 1 Axes>"
      ]
     },
     "metadata": {},
     "output_type": "display_data"
    }
   ],
   "source": [
    "plt.figure(figsize=[12, 6]);\n",
    "occup_order = df['Occupation'].value_counts()[:20].index\n",
    "sb.countplot(data = df, x = 'Occupation', color = base_color, order = occup_order);\n",
    "plt.xticks(rotation=90);\n"
   ]
  },
  {
   "cell_type": "markdown",
   "metadata": {
    "nbpresent": {
     "id": "09dcba2e-7514-40bb-9924-e9b14bd12be4"
    }
   },
   "source": [
    "The number of borrowers who has an occupation in other category is the highest and number of borrowers who are professinal are the second highest."
   ]
  },
  {
   "cell_type": "markdown",
   "metadata": {
    "nbpresent": {
     "id": "72b22a8d-8179-4a3d-a1c8-b0bd30339a28"
    }
   },
   "source": [
    "#### Employment Status"
   ]
  },
  {
   "cell_type": "code",
   "execution_count": 23,
   "metadata": {
    "nbpresent": {
     "id": "41555cdd-4a66-45ea-8945-0992e2caf74b"
    },
    "scrolled": true
   },
   "outputs": [
    {
     "data": {
      "image/png": "[encoded data removed]",
      "text/plain": [
       "<Figure size 432x288 with 1 Axes>"
      ]
     },
     "metadata": {},
     "output_type": "display_data"
    }
   ],
   "source": [
    "# order by count\n",
    "occup_order = df['EmploymentStatus'].value_counts().index \n",
    "\n",
    "sb.countplot(data = df, x = 'EmploymentStatus', color = base_color, order = occup_order);\n",
    "plt.xticks(rotation=90);"
   ]
  },
  {
   "cell_type": "markdown",
   "metadata": {
    "nbpresent": {
     "id": "22cf2312-f81f-4830-8f86-2c4cb0b742c0"
    }
   },
   "source": [
    "Majority of the borrowers are employed and full time."
   ]
  },
  {
   "cell_type": "markdown",
   "metadata": {
    "nbpresent": {
     "id": "178018c2-296a-4bae-8191-36f7164c75a0"
    }
   },
   "source": [
    "#### Is Borrower Homeowner"
   ]
  },
  {
   "cell_type": "code",
   "execution_count": 24,
   "metadata": {
    "nbpresent": {
     "id": "68cd95bc-1522-4dbe-8a9f-84887c1a75d2"
    }
   },
   "outputs": [
    {
     "data": {
      "text/plain": [
       "<matplotlib.axes._subplots.AxesSubplot at 0x108d62588>"
      ]
     },
     "execution_count": 24,
     "metadata": {},
     "output_type": "execute_result"
    },
    {
     "data": {
      "image/png": "[encoded data removed]",
      "text/plain": [
       "<Figure size 432x288 with 1 Axes>"
      ]
     },
     "metadata": {},
     "output_type": "display_data"
    }
   ],
   "source": [
    "sb.countplot(data = df, x = 'IsBorrowerHomeowner', color = base_color)"
   ]
  },
  {
   "cell_type": "markdown",
   "metadata": {
    "nbpresent": {
     "id": "dddbb5f1-f5db-420d-815f-887e8bfa03a0"
    }
   },
   "source": [
    "Most of the borrowers are homeowners."
   ]
  },
  {
   "cell_type": "markdown",
   "metadata": {
    "nbpresent": {
     "id": "18f1f35f-14ae-45ac-b339-8ea311e21e88"
    }
   },
   "source": [
    "#### Loan Original Amount"
   ]
  },
  {
   "cell_type": "code",
   "execution_count": 25,
   "metadata": {},
   "outputs": [
    {
     "data": {
      "text/plain": [
       "count    76224.000000\n",
       "mean      9294.811018\n",
       "std       6413.578876\n",
       "min       1000.000000\n",
       "25%       4000.000000\n",
       "50%       8000.000000\n",
       "75%      14603.250000\n",
       "max      35000.000000\n",
       "Name: LoanOriginalAmount, dtype: float64"
      ]
     },
     "execution_count": 25,
     "metadata": {},
     "output_type": "execute_result"
    }
   ],
   "source": [
    "df.LoanOriginalAmount.describe()"
   ]
  },
  {
   "cell_type": "code",
   "execution_count": 26,
   "metadata": {
    "nbpresent": {
     "id": "70ba4419-3b67-4db0-a17a-bb2fd6648e42"
    },
    "scrolled": true
   },
   "outputs": [
    {
     "data": {
      "image/png": "[encoded data removed]",
      "text/plain": [
       "<Figure size 936x360 with 2 Axes>"
      ]
     },
     "metadata": {},
     "output_type": "display_data"
    }
   ],
   "source": [
    "plt.figure(figsize = [13, 5]) \n",
    "\n",
    "plt.subplot(1,2,1)\n",
    "plt.hist(data=df, x='LoanOriginalAmount', bins=30);\n",
    "\n",
    "plt.subplot(1,2,2)\n",
    "sb.violinplot(data = df, y = 'LoanOriginalAmount', color= base_color);\n",
    "\n"
   ]
  },
  {
   "cell_type": "markdown",
   "metadata": {
    "nbpresent": {
     "id": "898c2659-20f4-441d-ad5c-854c2cd548f6"
    }
   },
   "source": [
    "The distribution is multimodal. Most of the borrowers take loans smaller than 5000. There are three peaks around 4000, 10000 and 15000. There are steep jumps in frequencies just before these peak points."
   ]
  },
  {
   "cell_type": "markdown",
   "metadata": {
    "nbpresent": {
     "id": "6e9e4e03-68f3-480e-9284-91e8a93cb116"
    }
   },
   "source": [
    "#### Delinquencies in Last 7 Years"
   ]
  },
  {
   "cell_type": "code",
   "execution_count": 27,
   "metadata": {
    "nbpresent": {
     "id": "80a42424-134d-40d2-a236-567e17d952c1"
    },
    "scrolled": true
   },
   "outputs": [
    {
     "data": {
      "image/png": "[encoded data removed]",
      "text/plain": [
       "<Figure size 864x360 with 2 Axes>"
      ]
     },
     "metadata": {},
     "output_type": "display_data"
    }
   ],
   "source": [
    "plt.figure(figsize = [12, 5]) \n",
    "\n",
    "plt.subplot(1, 2, 1);\n",
    "bins = np.arange(0, df['DelinquenciesLast7Years'].max(), 2)\n",
    "plt.hist(data = df, x = 'DelinquenciesLast7Years', bins = bins);\n",
    "\n",
    "plt.subplot(1, 2, 2);\n",
    "bins = np.arange(1, df['DelinquenciesLast7Years'].max(), 2)\n",
    "plt.hist(data = df, x = 'DelinquenciesLast7Years', bins = bins);\n"
   ]
  },
  {
   "cell_type": "markdown",
   "metadata": {
    "nbpresent": {
     "id": "2a9f5ff7-306b-49da-99a5-fb8363781609"
    }
   },
   "source": [
    "Most of the borrowers have no delinquencies in the last 7 years. By excluding 0 values the distribution can be seen more clearly. It looks like an exponential distribution. Maximum number of delinquencies is 99 and the mean number is around 3. There are a small number of people who has delinquencies smaller than 20, and the number of other borrowers are even smaller."
   ]
  },
  {
   "cell_type": "markdown",
   "metadata": {
    "nbpresent": {
     "id": "603454f3-6888-455f-95b9-162fbc8cc08c"
    }
   },
   "source": [
    "#### Stated Monthly Income"
   ]
  },
  {
   "cell_type": "code",
   "execution_count": 28,
   "metadata": {
    "nbpresent": {
     "id": "dd584857-e60e-42da-afd7-62096c809279"
    },
    "scrolled": true
   },
   "outputs": [
    {
     "data": {
      "text/plain": [
       "483333.333333"
      ]
     },
     "execution_count": 28,
     "metadata": {},
     "output_type": "execute_result"
    }
   ],
   "source": [
    "df['StatedMonthlyIncome'].max()"
   ]
  },
  {
   "cell_type": "code",
   "execution_count": 29,
   "metadata": {
    "nbpresent": {
     "id": "cbfc5e8c-2e13-4f9a-85d7-2a1d51edf801"
    },
    "scrolled": true
   },
   "outputs": [
    {
     "data": {
      "image/png": "[encoded data removed]",
      "text/plain": [
       "<Figure size 432x288 with 1 Axes>"
      ]
     },
     "metadata": {},
     "output_type": "display_data"
    }
   ],
   "source": [
    "plt.hist(data = df, x = 'StatedMonthlyIncome', bins=100);\n",
    "plt.xlabel('Stated Monthly Income in Dollars');"
   ]
  },
  {
   "cell_type": "markdown",
   "metadata": {
    "nbpresent": {
     "id": "47038bde-cce5-4da4-a49d-ccc29ecf23b4"
    }
   },
   "source": [
    "The distribution of stated monthly income is highly right-skewed. The high numbers for income are outliers and also remember that the maximum loan original amount is \\$35000. Thus I will limit income by 35000 and have a closer look."
   ]
  },
  {
   "cell_type": "code",
   "execution_count": 30,
   "metadata": {},
   "outputs": [],
   "source": [
    "df = df[df['StatedMonthlyIncome'] < 35000]"
   ]
  },
  {
   "cell_type": "code",
   "execution_count": 31,
   "metadata": {},
   "outputs": [
    {
     "name": "stdout",
     "output_type": "stream",
     "text": [
      "<class 'pandas.core.frame.DataFrame'>\n",
      "Int64Index: 76103 entries, 1 to 113936\n",
      "Data columns (total 14 columns):\n",
      "Term                       76103 non-null int64\n",
      "LoanStatus                 76103 non-null object\n",
      "BorrowerAPR                76103 non-null float64\n",
      "ProsperScore               76103 non-null float64\n",
      "ListingCategoryNumeric     76103 non-null int64\n",
      "ProsperRatingNumeric       76103 non-null float64\n",
      "BorrowerState              76103 non-null object\n",
      "Occupation                 76103 non-null object\n",
      "EmploymentStatus           76103 non-null object\n",
      "IsBorrowerHomeowner        76103 non-null bool\n",
      "LoanOriginalAmount         76103 non-null int64\n",
      "DelinquenciesLast7Years    76103 non-null float64\n",
      "DebtToIncomeRatio          76103 non-null float64\n",
      "StatedMonthlyIncome        76103 non-null float64\n",
      "dtypes: bool(1), float64(6), int64(3), object(4)\n",
      "memory usage: 8.2+ MB\n"
     ]
    }
   ],
   "source": [
    "df.info()"
   ]
  },
  {
   "cell_type": "markdown",
   "metadata": {},
   "source": [
    "We only lost 121 loan data."
   ]
  },
  {
   "cell_type": "code",
   "execution_count": 32,
   "metadata": {
    "nbpresent": {
     "id": "26ade3e9-0f79-4fa6-b126-b0f4b1bb9f76"
    },
    "scrolled": false
   },
   "outputs": [
    {
     "data": {
      "image/png": "[encoded data removed]",
      "text/plain": [
       "<Figure size 720x360 with 1 Axes>"
      ]
     },
     "metadata": {},
     "output_type": "display_data"
    }
   ],
   "source": [
    "plt.figure(figsize = [10, 5])\n",
    "plt.hist(data = df, x = 'StatedMonthlyIncome', bins=100);\n",
    "plt.xlabel('Stated Monthly Income in Dollars');\n"
   ]
  },
  {
   "cell_type": "code",
   "execution_count": 33,
   "metadata": {
    "nbpresent": {
     "id": "81e46e7a-b137-4902-942e-67d2c32cf7f2"
    },
    "scrolled": true
   },
   "outputs": [
    {
     "data": {
      "text/plain": [
       "count    76103.000000\n",
       "mean      5911.987444\n",
       "std       3553.460294\n",
       "min          0.250000\n",
       "25%       3583.333333\n",
       "50%       5010.250000\n",
       "75%       7208.333333\n",
       "max      34813.250000\n",
       "Name: StatedMonthlyIncome, dtype: float64"
      ]
     },
     "execution_count": 33,
     "metadata": {},
     "output_type": "execute_result"
    }
   ],
   "source": [
    "df.StatedMonthlyIncome.describe()"
   ]
  },
  {
   "cell_type": "markdown",
   "metadata": {
    "nbpresent": {
     "id": "f52ae297-dd0c-40d7-ae4a-5c54da547031"
    }
   },
   "source": [
    "The distribution is still right-skewed. The mean of monthly income is around 6k, the median income is around 5k and 75% of the borrowers have an income smaller than 7,2k and just a small proportion of borrowers have an income higher than 20k.\n",
    "\n",
    "Since the people with very high income generally do not need loans it makes sense there are not many borrowers with high incomes.\n"
   ]
  },
  {
   "cell_type": "markdown",
   "metadata": {
    "nbpresent": {
     "id": "64507100-442e-46e4-a403-d8447af7ec58"
    }
   },
   "source": [
    "We can also apply log transformation to StatedMonthlyIncome to have a normally distributed data."
   ]
  },
  {
   "cell_type": "code",
   "execution_count": 34,
   "metadata": {
    "nbpresent": {
     "id": "1f5fe28a-9d8b-4eb3-8355-8a71e40cdbbf"
    },
    "scrolled": false
   },
   "outputs": [
    {
     "data": {
      "text/plain": [
       "count    4.881402\n",
       "mean     3.771734\n",
       "std      3.550651\n",
       "min     -0.602060\n",
       "25%      3.554287\n",
       "50%      3.699859\n",
       "75%      3.857835\n",
       "max      4.541745\n",
       "Name: StatedMonthlyIncome, dtype: float64"
      ]
     },
     "execution_count": 34,
     "metadata": {},
     "output_type": "execute_result"
    }
   ],
   "source": [
    "np.log10(df.StatedMonthlyIncome.describe())"
   ]
  },
  {
   "cell_type": "code",
   "execution_count": 35,
   "metadata": {
    "nbpresent": {
     "id": "535c4a67-2bbc-4b07-8524-9651880c1b3b"
    },
    "scrolled": true
   },
   "outputs": [
    {
     "data": {
      "text/plain": [
       "(100, 100000)"
      ]
     },
     "execution_count": 35,
     "metadata": {},
     "output_type": "execute_result"
    },
    {
     "data": {
      "image/png": "[encoded data removed]",
      "text/plain": [
       "<Figure size 576x360 with 1 Axes>"
      ]
     },
     "metadata": {},
     "output_type": "display_data"
    }
   ],
   "source": [
    "# apply log transformation to StatedMonthlyIncome\n",
    "plt.figure(figsize = [8, 5])\n",
    "bin_edges = 10 ** np.arange(-0.6, np.log10(df.StatedMonthlyIncome.max())+0.05, 0.05)\n",
    "plt.hist(data = df, x = 'StatedMonthlyIncome', bins=bin_edges);\n",
    "plt.xscale('log')\n",
    "plt.xlim(100,100000)\n",
    "\n"
   ]
  },
  {
   "cell_type": "markdown",
   "metadata": {
    "nbpresent": {
     "id": "934cd847-94c4-4711-b973-70ba82d4adf2"
    }
   },
   "source": [
    "#### Debt To Income Ratio"
   ]
  },
  {
   "cell_type": "code",
   "execution_count": 36,
   "metadata": {
    "nbpresent": {
     "id": "e275ef95-bf42-490f-990a-cc548638aecf"
    }
   },
   "outputs": [
    {
     "data": {
      "text/plain": [
       "count    76103.00000\n",
       "mean         0.25832\n",
       "std          0.32075\n",
       "min          0.00000\n",
       "25%          0.15000\n",
       "50%          0.22000\n",
       "75%          0.32000\n",
       "max         10.01000\n",
       "Name: DebtToIncomeRatio, dtype: float64"
      ]
     },
     "execution_count": 36,
     "metadata": {},
     "output_type": "execute_result"
    }
   ],
   "source": [
    "df.DebtToIncomeRatio.describe()"
   ]
  },
  {
   "cell_type": "code",
   "execution_count": 37,
   "metadata": {
    "nbpresent": {
     "id": "655029ca-403b-4a87-b376-fafdb6b9bfca"
    },
    "scrolled": true
   },
   "outputs": [
    {
     "data": {
      "image/png": "[encoded data removed]",
      "text/plain": [
       "<Figure size 864x360 with 2 Axes>"
      ]
     },
     "metadata": {},
     "output_type": "display_data"
    }
   ],
   "source": [
    "plt.figure(figsize = [12, 5]) \n",
    "\n",
    "plt.subplot(1, 2, 1);\n",
    "plt.hist(data=df, x='DebtToIncomeRatio', bins =100);\n",
    "\n",
    "plt.subplot(1, 2, 2);\n",
    "bins = np.arange(0, df.DebtToIncomeRatio.max()+ 0.03, 0.03)\n",
    "plt.hist(data = df, x = 'DebtToIncomeRatio',bins=bins);\n",
    "plt.xlim(0,1.75);"
   ]
  },
  {
   "cell_type": "markdown",
   "metadata": {
    "nbpresent": {
     "id": "24b571a4-792b-40c0-b593-0391456d60aa"
    }
   },
   "source": [
    "Similar to the stated monthly income, the distribution is unimodal and skewed right. The ratio varies from 0 to 10 but there is a small number of borrowers with debt to income ratio greater than 1. The distribution is more clear in the second plot. The high ratios are outliers and and I will limit ratio by 1. "
   ]
  },
  {
   "cell_type": "code",
   "execution_count": 38,
   "metadata": {},
   "outputs": [
    {
     "name": "stdout",
     "output_type": "stream",
     "text": [
      "<class 'pandas.core.frame.DataFrame'>\n",
      "Int64Index: 75774 entries, 1 to 113936\n",
      "Data columns (total 14 columns):\n",
      "Term                       75774 non-null int64\n",
      "LoanStatus                 75774 non-null object\n",
      "BorrowerAPR                75774 non-null float64\n",
      "ProsperScore               75774 non-null float64\n",
      "ListingCategoryNumeric     75774 non-null int64\n",
      "ProsperRatingNumeric       75774 non-null float64\n",
      "BorrowerState              75774 non-null object\n",
      "Occupation                 75774 non-null object\n",
      "EmploymentStatus           75774 non-null object\n",
      "IsBorrowerHomeowner        75774 non-null bool\n",
      "LoanOriginalAmount         75774 non-null int64\n",
      "DelinquenciesLast7Years    75774 non-null float64\n",
      "DebtToIncomeRatio          75774 non-null float64\n",
      "StatedMonthlyIncome        75774 non-null float64\n",
      "dtypes: bool(1), float64(6), int64(3), object(4)\n",
      "memory usage: 8.2+ MB\n"
     ]
    }
   ],
   "source": [
    "df = df[df['DebtToIncomeRatio'] < 1]\n",
    "df.info()"
   ]
  },
  {
   "cell_type": "markdown",
   "metadata": {},
   "source": [
    "Data size decreased from 76224 to 75774 after excluding outliers in *StatedMonthlyIncome* and *DebtToIncomeRatio* columns."
   ]
  },
  {
   "cell_type": "code",
   "execution_count": 39,
   "metadata": {},
   "outputs": [
    {
     "data": {
      "image/png": "[encoded data removed]",
      "text/plain": [
       "<Figure size 432x288 with 1 Axes>"
      ]
     },
     "metadata": {},
     "output_type": "display_data"
    }
   ],
   "source": [
    "bins = np.arange(0, df.DebtToIncomeRatio.max()+ 0.02, 0.02)\n",
    "plt.hist(data = df, x = 'DebtToIncomeRatio',bins=bins);\n"
   ]
  },
  {
   "cell_type": "markdown",
   "metadata": {},
   "source": [
    "The distribution is still skewed-rigt. The mean ratio around 0.25 which means that borrowers get loans about 25% of their income."
   ]
  },
  {
   "cell_type": "markdown",
   "metadata": {
    "nbpresent": {
     "id": "5019b2b1-965d-4ffe-ac08-aa05d3bd55ab"
    }
   },
   "source": [
    "### Discuss the distribution(s) of your variable(s) of interest. Were there any unusual points? Did you need to perform any transformations?\n",
    "\n",
    "- Borrower APR data is bimodal, with one peak around 20% and the second one,mode, around 35%.\n",
    "- Prosper Score data is multimodal and has three peaks at 4, 6 and 8, the mean risk score is 6.\n",
    "- Loan Original Amount data is multimodal. Most of the borrowers take loans smaller than 5000. There are three peaks around 4000, 10000 and 15000.\n",
    "\n",
    " \n",
    "### Of the features you investigated, were there any unusual distributions? Did you perform any operations on the data to tidy, adjust, or change the form of the data? If so, why did you do this?\n",
    "\n",
    "There were a number of outlier points in the StatedMonthlyIncome and DebtToIncomeRatio columns. It does not seem realistic the people who have really high montly incomes to borrow money. Since they are 'stated' monthly incomes, it is possible that the borrowers did not report their true income. Also, the high numbers for DebtToIncomeRatio means that some people have too much debt considering their income. Thus, I removed those outliers from the dataset and the data size decreased from 76224 to 75774.\n",
    "\n",
    "I applied log transformation to the right-skewed Stated Monthly Income data and obtain normally distributed data.\n",
    "\n",
    "\n",
    "## Bivariate Exploration\n",
    "\n",
    "First, have a look at the pairwise correlations present between features in the data."
   ]
  },
  {
   "cell_type": "code",
   "execution_count": null,
   "metadata": {},
   "outputs": [],
   "source": []
  }
 ],
 "metadata": {
  "kernelspec": {
   "display_name": "Python [default]",
   "language": "python",
   "name": "python3"
  },
  "language_info": {
   "codemirror_mode": {
    "name": "ipython",
    "version": 3
   },
   "file_extension": ".py",
   "mimetype": "text/x-python",
   "name": "python",
   "nbconvert_exporter": "python",
   "pygments_lexer": "ipython3",
   "version": "3.6.5"
  }
 },
 "nbformat": 4,
 "nbformat_minor": 2
}
